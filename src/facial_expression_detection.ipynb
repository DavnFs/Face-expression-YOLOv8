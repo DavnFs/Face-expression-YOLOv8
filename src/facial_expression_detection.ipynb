{
 "cells": [
  {
   "cell_type": "markdown",
   "metadata": {},
   "source": [
    "# Face Expression Detection with YOLOv8\n",
    "\n",
    "This notebook contains the complete workflow for training, evaluating, and deploying a facial expression detection model using YOLOv8 on the AffectNet dataset."
   ]
  },
  {
   "cell_type": "code",
   "execution_count": null,
   "metadata": {},
   "outputs": [],
   "source": [
    "# Install dependencies\n",
    "!pip install ultralytics streamlit pillow -q"
   ]
  },
  {
   "cell_type": "code",
   "execution_count": null,
   "metadata": {},
   "outputs": [],
   "source": [
    "# Import libraries\n",
    "import os\n",
    "import shutil\n",
    "from ultralytics import YOLO\n",
    "import streamlit as st\n",
    "from PIL import Image"
   ]
  },
  {
   "cell_type": "code",
   "execution_count": null,
   "metadata": {},
   "outputs": [],
   "source": [
    "# 1. Prepare Dataset\n",
    "INPUT_DATA_PATH = \"/kaggle/input/affectnet-yolo-format/YOLO_format\"  # Adjust for local path if needed\n",
    "WORKING_DATA_PATH = \"/kaggle/working/YOLO_format\"\n",
    "\n",
    "if os.path.exists(WORKING_DATA_PATH):\n",
    "    shutil.rmtree(WORKING_DATA_PATH)\n",
    "shutil.copytree(INPUT_DATA_PATH, WORKING_DATA_PATH)\n",
    "\n",
    "# Create and update affectnet.yaml\n",
    "yaml_content = \"\"\"\n",
    "path: {}\n",
    "train: train/images\n",
    "val: valid/images\n",
    "test: test/images\n",
    "nc: 8\n",
    "names: ['neutral', 'happy', 'sad', 'surprise', 'fear', 'disgust', 'anger', 'contempt']\n",
    "\"\"\".format(WORKING_DATA_PATH)\n",
    "\n",
    "with open(\"affectnet.yaml\", \"w\") as f:\n",
    "    f.write(yaml_content)\n",
    "\n",
    "# Fix label files\n",
    "label_dir = os.path.join(WORKING_DATA_PATH, \"train/labels\")\n",
    "for label_file in os.listdir(label_dir):\n",
    "    label_path = os.path.join(label_dir, label_file)\n",
    "    with open(label_path, 'r') as f:\n",
    "        lines = f.readlines()\n",
    "    with open(label_path, 'w') as f:\n",
    "        for line in lines:\n",
    "            parts = line.strip().split()\n",
    "            if len(parts) > 0 and int(parts[0]) == 7:\n",
    "                f.write(line)\n",
    "            elif len(parts) > 0 and int(parts[0]) < 7:\n",
    "                f.write(line)"
   ]
  },
  {
   "cell_type": "code",
   "execution_count": null,
   "metadata": {},
   "outputs": [],
   "source": [
    "# 2. Train the Model\n",
    "model = YOLO(\"yolov8n.pt\")\n",
    "results = model.train(\n",
    "    data=\"affectnet.yaml\",\n",
    "    epochs=50,\n",
    "    imgsz=224,\n",
    "    batch=32,\n",
    "    project=\"models/runs/detect\",\n",
    "    name=\"train\",\n",
    "    exist_ok=True\n",
    ")\n",
    "print(\"Training completed.\")"
   ]
  },
  {
   "cell_type": "code",
   "execution_count": null,
   "metadata": {},
   "outputs": [],
   "source": [
    "# 3. Evaluate the Model\n",
    "model = YOLO(\"runs/detect/train/weights/best.pt\")\n",
    "results = model.val(data=\"affectnet.yaml\")\n",
    "print(\"Metrik Evaluasi:\")\n",
    "print(f\"mAP@50: {results.box.map}\")\n",
    "print(f\"Precision: {results.box.map}\")\n",
    "print(f\"Recall: {results.box.map}\")"
   ]
  },
  {
   "cell_type": "code",
   "execution_count": null,
   "metadata": {},
   "outputs": [],
   "source": [
    "# 4. Export Model to ONNX\n",
    "model.export(format=\"onnx\")\n",
    "print(\"Model exported to ONNX format.\")"
   ]
  },
  {
   "cell_type": "markdown",
   "metadata": {},
   "source": [
    "### Deployment using streamlit (optional) Or just using deploy.py\n",
    "\n",
    "```python"
   ]
  },
  {
   "cell_type": "code",
   "execution_count": null,
   "metadata": {},
   "outputs": [],
   "source": [
    "# 5. Save Streamlit Code for Local Deployment\n",
    "streamlit_code = '''import streamlit as st\n",
    "from ultralytics import YOLO\n",
    "from PIL import Image\n",
    "import os\n",
    "\n",
    "model_path = \"models/runs/detect/train/weights/best.pt\"\n",
    "if not os.path.exists(model_path):\n",
    "    st.error(\"Model file not found. Please upload 'best.pt' to the models directory.\")\n",
    "else:\n",
    "    model = YOLO(model_path)\n",
    "    st.title(\"Deteksi Ekspresi Wajah\")\n",
    "    uploaded_file = st.file_uploader(\"Unggah Gambar\", type=[\"jpg\", \"png\"])\n",
    "    if uploaded_file:\n",
    "        img = Image.open(uploaded_file)\n",
    "        results = model(img)\n",
    "        st.image(results.render()[0], caption=\"Hasil Deteksi\")\n",
    "'''\n",
    "\n",
    "with open(\"deploy.py\", \"w\") as f:\n",
    "    f.write(streamlit_code)\n",
    "print(\"Streamlit code saved to deploy.py. Run 'streamlit run deploy.py' locally.\")"
   ]
  },
  {
   "cell_type": "markdown",
   "metadata": {},
   "source": [
    "## Notes\n",
    "- Run each cell sequentially to execute the full pipeline.\n",
    "- For local execution, adjust `INPUT_DATA_PATH` to the local dataset path.\n",
    "- Download `best.pt` and `deploy.py` from the output directory for deployment."
   ]
  }
 ],
 "metadata": {
  "kernelspec": {
   "display_name": "Python 3",
   "language": "python",
   "name": "python3"
  },
  "language_info": {
   "codemirror_mode": {
    "name": "ipython",
    "version": 3
   },
   "file_extension": ".py",
   "mimetype": "text/x-python",
   "name": "python",
   "nbconvert_exporter": "python",
   "pygments_lexer": "ipython3",
   "version": "3.10"
  }
 },
 "nbformat": 4,
 "nbformat_minor": 4
}
